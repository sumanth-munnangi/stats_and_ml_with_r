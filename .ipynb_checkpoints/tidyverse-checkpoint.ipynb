{
 "cells": [
  {
   "cell_type": "code",
   "execution_count": 1,
   "id": "ba41cd22",
   "metadata": {
    "scrolled": true
   },
   "outputs": [
    {
     "name": "stdout",
     "output_type": "stream",
     "text": [
      "package 'tidyverse' successfully unpacked and MD5 sums checked\n",
      "\n",
      "The downloaded binary packages are in\n",
      "\tC:\\Users\\suman\\AppData\\Local\\Temp\\RtmpOMPp8G\\downloaded_packages\n"
     ]
    }
   ],
   "source": [
    "# install.packages(\"tidyverse\")"
   ]
  },
  {
   "cell_type": "code",
   "execution_count": 2,
   "id": "76344b69",
   "metadata": {},
   "outputs": [
    {
     "name": "stdout",
     "output_type": "stream",
     "text": [
      "package 'gapminder' successfully unpacked and MD5 sums checked\n",
      "\n",
      "The downloaded binary packages are in\n",
      "\tC:\\Users\\suman\\AppData\\Local\\Temp\\RtmpOMPp8G\\downloaded_packages\n"
     ]
    }
   ],
   "source": [
    "# install.packages(\"gapminder\")"
   ]
  },
  {
   "cell_type": "code",
   "execution_count": 2,
   "id": "8f5abf7c",
   "metadata": {
    "scrolled": true
   },
   "outputs": [
    {
     "name": "stderr",
     "output_type": "stream",
     "text": [
      "\n",
      "Attaching package: 'dplyr'\n",
      "\n",
      "\n",
      "The following objects are masked from 'package:stats':\n",
      "\n",
      "    filter, lag\n",
      "\n",
      "\n",
      "The following objects are masked from 'package:base':\n",
      "\n",
      "    intersect, setdiff, setequal, union\n",
      "\n",
      "\n"
     ]
    }
   ],
   "source": [
    "library(\"gapminder\")\n",
    "library(\"dplyr\")\n",
    "library(\"ggplot2\")"
   ]
  },
  {
   "cell_type": "code",
   "execution_count": 2,
   "id": "389b10cc",
   "metadata": {},
   "outputs": [
    {
     "data": {
      "text/html": [
       "<table class=\"dataframe\">\n",
       "<caption>A tibble: 6 × 6</caption>\n",
       "<thead>\n",
       "\t<tr><th scope=col>country</th><th scope=col>continent</th><th scope=col>year</th><th scope=col>lifeExp</th><th scope=col>pop</th><th scope=col>gdpPercap</th></tr>\n",
       "\t<tr><th scope=col>&lt;fct&gt;</th><th scope=col>&lt;fct&gt;</th><th scope=col>&lt;int&gt;</th><th scope=col>&lt;dbl&gt;</th><th scope=col>&lt;int&gt;</th><th scope=col>&lt;dbl&gt;</th></tr>\n",
       "</thead>\n",
       "<tbody>\n",
       "\t<tr><td>Afghanistan</td><td>Asia</td><td>1952</td><td>28.801</td><td> 8425333</td><td>779.4453</td></tr>\n",
       "\t<tr><td>Afghanistan</td><td>Asia</td><td>1957</td><td>30.332</td><td> 9240934</td><td>820.8530</td></tr>\n",
       "\t<tr><td>Afghanistan</td><td>Asia</td><td>1962</td><td>31.997</td><td>10267083</td><td>853.1007</td></tr>\n",
       "\t<tr><td>Afghanistan</td><td>Asia</td><td>1967</td><td>34.020</td><td>11537966</td><td>836.1971</td></tr>\n",
       "\t<tr><td>Afghanistan</td><td>Asia</td><td>1972</td><td>36.088</td><td>13079460</td><td>739.9811</td></tr>\n",
       "\t<tr><td>Afghanistan</td><td>Asia</td><td>1977</td><td>38.438</td><td>14880372</td><td>786.1134</td></tr>\n",
       "</tbody>\n",
       "</table>\n"
      ],
      "text/latex": [
       "A tibble: 6 × 6\n",
       "\\begin{tabular}{llllll}\n",
       " country & continent & year & lifeExp & pop & gdpPercap\\\\\n",
       " <fct> & <fct> & <int> & <dbl> & <int> & <dbl>\\\\\n",
       "\\hline\n",
       "\t Afghanistan & Asia & 1952 & 28.801 &  8425333 & 779.4453\\\\\n",
       "\t Afghanistan & Asia & 1957 & 30.332 &  9240934 & 820.8530\\\\\n",
       "\t Afghanistan & Asia & 1962 & 31.997 & 10267083 & 853.1007\\\\\n",
       "\t Afghanistan & Asia & 1967 & 34.020 & 11537966 & 836.1971\\\\\n",
       "\t Afghanistan & Asia & 1972 & 36.088 & 13079460 & 739.9811\\\\\n",
       "\t Afghanistan & Asia & 1977 & 38.438 & 14880372 & 786.1134\\\\\n",
       "\\end{tabular}\n"
      ],
      "text/markdown": [
       "\n",
       "A tibble: 6 × 6\n",
       "\n",
       "| country &lt;fct&gt; | continent &lt;fct&gt; | year &lt;int&gt; | lifeExp &lt;dbl&gt; | pop &lt;int&gt; | gdpPercap &lt;dbl&gt; |\n",
       "|---|---|---|---|---|---|\n",
       "| Afghanistan | Asia | 1952 | 28.801 |  8425333 | 779.4453 |\n",
       "| Afghanistan | Asia | 1957 | 30.332 |  9240934 | 820.8530 |\n",
       "| Afghanistan | Asia | 1962 | 31.997 | 10267083 | 853.1007 |\n",
       "| Afghanistan | Asia | 1967 | 34.020 | 11537966 | 836.1971 |\n",
       "| Afghanistan | Asia | 1972 | 36.088 | 13079460 | 739.9811 |\n",
       "| Afghanistan | Asia | 1977 | 38.438 | 14880372 | 786.1134 |\n",
       "\n"
      ],
      "text/plain": [
       "  country     continent year lifeExp pop      gdpPercap\n",
       "1 Afghanistan Asia      1952 28.801   8425333 779.4453 \n",
       "2 Afghanistan Asia      1957 30.332   9240934 820.8530 \n",
       "3 Afghanistan Asia      1962 31.997  10267083 853.1007 \n",
       "4 Afghanistan Asia      1967 34.020  11537966 836.1971 \n",
       "5 Afghanistan Asia      1972 36.088  13079460 739.9811 \n",
       "6 Afghanistan Asia      1977 38.438  14880372 786.1134 "
      ]
     },
     "metadata": {},
     "output_type": "display_data"
    }
   ],
   "source": [
    "head(gapminder)"
   ]
  },
  {
   "cell_type": "code",
   "execution_count": 3,
   "id": "a504df40",
   "metadata": {},
   "outputs": [
    {
     "name": "stdout",
     "output_type": "stream",
     "text": [
      "tibble [1,704 x 6] (S3: tbl_df/tbl/data.frame)\n",
      " $ country  : Factor w/ 142 levels \"Afghanistan\",..: 1 1 1 1 1 1 1 1 1 1 ...\n",
      " $ continent: Factor w/ 5 levels \"Africa\",\"Americas\",..: 3 3 3 3 3 3 3 3 3 3 ...\n",
      " $ year     : int [1:1704] 1952 1957 1962 1967 1972 1977 1982 1987 1992 1997 ...\n",
      " $ lifeExp  : num [1:1704] 28.8 30.3 32 34 36.1 ...\n",
      " $ pop      : int [1:1704] 8425333 9240934 10267083 11537966 13079460 14880372 12881816 13867957 16317921 22227415 ...\n",
      " $ gdpPercap: num [1:1704] 779 821 853 836 740 ...\n"
     ]
    }
   ],
   "source": [
    "str(gapminder)"
   ]
  },
  {
   "cell_type": "markdown",
   "id": "2a710549",
   "metadata": {},
   "source": [
    "#### Filtering and arranging data with R"
   ]
  },
  {
   "cell_type": "code",
   "execution_count": 4,
   "id": "1cbe0fc9",
   "metadata": {},
   "outputs": [
    {
     "data": {
      "text/html": [
       "<table class=\"dataframe\">\n",
       "<caption>A tibble: 6 × 6</caption>\n",
       "<thead>\n",
       "\t<tr><th scope=col>country</th><th scope=col>continent</th><th scope=col>year</th><th scope=col>lifeExp</th><th scope=col>pop</th><th scope=col>gdpPercap</th></tr>\n",
       "\t<tr><th scope=col>&lt;fct&gt;</th><th scope=col>&lt;fct&gt;</th><th scope=col>&lt;int&gt;</th><th scope=col>&lt;dbl&gt;</th><th scope=col>&lt;int&gt;</th><th scope=col>&lt;dbl&gt;</th></tr>\n",
       "</thead>\n",
       "<tbody>\n",
       "\t<tr><td>Afghanistan     </td><td>Asia</td><td>1957</td><td>30.33200</td><td>  9240934</td><td>  820.8530</td></tr>\n",
       "\t<tr><td>Bahrain         </td><td>Asia</td><td>1957</td><td>53.83200</td><td>   138655</td><td>11635.7995</td></tr>\n",
       "\t<tr><td>Bangladesh      </td><td>Asia</td><td>1957</td><td>39.34800</td><td> 51365468</td><td>  661.6375</td></tr>\n",
       "\t<tr><td>Cambodia        </td><td>Asia</td><td>1957</td><td>41.36600</td><td>  5322536</td><td>  434.0383</td></tr>\n",
       "\t<tr><td>China           </td><td>Asia</td><td>1957</td><td>50.54896</td><td>637408000</td><td>  575.9870</td></tr>\n",
       "\t<tr><td>Hong Kong, China</td><td>Asia</td><td>1957</td><td>64.75000</td><td>  2736300</td><td> 3629.0765</td></tr>\n",
       "</tbody>\n",
       "</table>\n"
      ],
      "text/latex": [
       "A tibble: 6 × 6\n",
       "\\begin{tabular}{llllll}\n",
       " country & continent & year & lifeExp & pop & gdpPercap\\\\\n",
       " <fct> & <fct> & <int> & <dbl> & <int> & <dbl>\\\\\n",
       "\\hline\n",
       "\t Afghanistan      & Asia & 1957 & 30.33200 &   9240934 &   820.8530\\\\\n",
       "\t Bahrain          & Asia & 1957 & 53.83200 &    138655 & 11635.7995\\\\\n",
       "\t Bangladesh       & Asia & 1957 & 39.34800 &  51365468 &   661.6375\\\\\n",
       "\t Cambodia         & Asia & 1957 & 41.36600 &   5322536 &   434.0383\\\\\n",
       "\t China            & Asia & 1957 & 50.54896 & 637408000 &   575.9870\\\\\n",
       "\t Hong Kong, China & Asia & 1957 & 64.75000 &   2736300 &  3629.0765\\\\\n",
       "\\end{tabular}\n"
      ],
      "text/markdown": [
       "\n",
       "A tibble: 6 × 6\n",
       "\n",
       "| country &lt;fct&gt; | continent &lt;fct&gt; | year &lt;int&gt; | lifeExp &lt;dbl&gt; | pop &lt;int&gt; | gdpPercap &lt;dbl&gt; |\n",
       "|---|---|---|---|---|---|\n",
       "| Afghanistan      | Asia | 1957 | 30.33200 |   9240934 |   820.8530 |\n",
       "| Bahrain          | Asia | 1957 | 53.83200 |    138655 | 11635.7995 |\n",
       "| Bangladesh       | Asia | 1957 | 39.34800 |  51365468 |   661.6375 |\n",
       "| Cambodia         | Asia | 1957 | 41.36600 |   5322536 |   434.0383 |\n",
       "| China            | Asia | 1957 | 50.54896 | 637408000 |   575.9870 |\n",
       "| Hong Kong, China | Asia | 1957 | 64.75000 |   2736300 |  3629.0765 |\n",
       "\n"
      ],
      "text/plain": [
       "  country          continent year lifeExp  pop       gdpPercap \n",
       "1 Afghanistan      Asia      1957 30.33200   9240934   820.8530\n",
       "2 Bahrain          Asia      1957 53.83200    138655 11635.7995\n",
       "3 Bangladesh       Asia      1957 39.34800  51365468   661.6375\n",
       "4 Cambodia         Asia      1957 41.36600   5322536   434.0383\n",
       "5 China            Asia      1957 50.54896 637408000   575.9870\n",
       "6 Hong Kong, China Asia      1957 64.75000   2736300  3629.0765"
      ]
     },
     "metadata": {},
     "output_type": "display_data"
    }
   ],
   "source": [
    "head(\n",
    "    gapminder %>% filter( year == 1957, continent == \"Asia\") \n",
    ")"
   ]
  },
  {
   "cell_type": "code",
   "execution_count": 5,
   "id": "a2095e55",
   "metadata": {},
   "outputs": [
    {
     "data": {
      "text/html": [
       "<table class=\"dataframe\">\n",
       "<caption>A tibble: 6 × 6</caption>\n",
       "<thead>\n",
       "\t<tr><th scope=col>country</th><th scope=col>continent</th><th scope=col>year</th><th scope=col>lifeExp</th><th scope=col>pop</th><th scope=col>gdpPercap</th></tr>\n",
       "\t<tr><th scope=col>&lt;fct&gt;</th><th scope=col>&lt;fct&gt;</th><th scope=col>&lt;int&gt;</th><th scope=col>&lt;dbl&gt;</th><th scope=col>&lt;int&gt;</th><th scope=col>&lt;dbl&gt;</th></tr>\n",
       "</thead>\n",
       "<tbody>\n",
       "\t<tr><td>Japan           </td><td>Asia  </td><td>2007</td><td>82.603</td><td>127467972</td><td>31656.07</td></tr>\n",
       "\t<tr><td>Hong Kong, China</td><td>Asia  </td><td>2007</td><td>82.208</td><td>  6980412</td><td>39724.98</td></tr>\n",
       "\t<tr><td>Japan           </td><td>Asia  </td><td>2002</td><td>82.000</td><td>127065841</td><td>28604.59</td></tr>\n",
       "\t<tr><td>Iceland         </td><td>Europe</td><td>2007</td><td>81.757</td><td>   301931</td><td>36180.79</td></tr>\n",
       "\t<tr><td>Switzerland     </td><td>Europe</td><td>2007</td><td>81.701</td><td>  7554661</td><td>37506.42</td></tr>\n",
       "\t<tr><td>Hong Kong, China</td><td>Asia  </td><td>2002</td><td>81.495</td><td>  6762476</td><td>30209.02</td></tr>\n",
       "</tbody>\n",
       "</table>\n"
      ],
      "text/latex": [
       "A tibble: 6 × 6\n",
       "\\begin{tabular}{llllll}\n",
       " country & continent & year & lifeExp & pop & gdpPercap\\\\\n",
       " <fct> & <fct> & <int> & <dbl> & <int> & <dbl>\\\\\n",
       "\\hline\n",
       "\t Japan            & Asia   & 2007 & 82.603 & 127467972 & 31656.07\\\\\n",
       "\t Hong Kong, China & Asia   & 2007 & 82.208 &   6980412 & 39724.98\\\\\n",
       "\t Japan            & Asia   & 2002 & 82.000 & 127065841 & 28604.59\\\\\n",
       "\t Iceland          & Europe & 2007 & 81.757 &    301931 & 36180.79\\\\\n",
       "\t Switzerland      & Europe & 2007 & 81.701 &   7554661 & 37506.42\\\\\n",
       "\t Hong Kong, China & Asia   & 2002 & 81.495 &   6762476 & 30209.02\\\\\n",
       "\\end{tabular}\n"
      ],
      "text/markdown": [
       "\n",
       "A tibble: 6 × 6\n",
       "\n",
       "| country &lt;fct&gt; | continent &lt;fct&gt; | year &lt;int&gt; | lifeExp &lt;dbl&gt; | pop &lt;int&gt; | gdpPercap &lt;dbl&gt; |\n",
       "|---|---|---|---|---|---|\n",
       "| Japan            | Asia   | 2007 | 82.603 | 127467972 | 31656.07 |\n",
       "| Hong Kong, China | Asia   | 2007 | 82.208 |   6980412 | 39724.98 |\n",
       "| Japan            | Asia   | 2002 | 82.000 | 127065841 | 28604.59 |\n",
       "| Iceland          | Europe | 2007 | 81.757 |    301931 | 36180.79 |\n",
       "| Switzerland      | Europe | 2007 | 81.701 |   7554661 | 37506.42 |\n",
       "| Hong Kong, China | Asia   | 2002 | 81.495 |   6762476 | 30209.02 |\n",
       "\n"
      ],
      "text/plain": [
       "  country          continent year lifeExp pop       gdpPercap\n",
       "1 Japan            Asia      2007 82.603  127467972 31656.07 \n",
       "2 Hong Kong, China Asia      2007 82.208    6980412 39724.98 \n",
       "3 Japan            Asia      2002 82.000  127065841 28604.59 \n",
       "4 Iceland          Europe    2007 81.757     301931 36180.79 \n",
       "5 Switzerland      Europe    2007 81.701    7554661 37506.42 \n",
       "6 Hong Kong, China Asia      2002 81.495    6762476 30209.02 "
      ]
     },
     "metadata": {},
     "output_type": "display_data"
    }
   ],
   "source": [
    "head ( \n",
    "    gapminder %>% arrange(desc(lifeExp))\n",
    "    )"
   ]
  },
  {
   "cell_type": "code",
   "execution_count": 6,
   "id": "10d20c7b",
   "metadata": {},
   "outputs": [
    {
     "data": {
      "text/html": [
       "<table class=\"dataframe\">\n",
       "<caption>A tibble: 6 × 6</caption>\n",
       "<thead>\n",
       "\t<tr><th scope=col>country</th><th scope=col>continent</th><th scope=col>year</th><th scope=col>lifeExp</th><th scope=col>pop</th><th scope=col>gdpPercap</th></tr>\n",
       "\t<tr><th scope=col>&lt;fct&gt;</th><th scope=col>&lt;fct&gt;</th><th scope=col>&lt;int&gt;</th><th scope=col>&lt;dbl&gt;</th><th scope=col>&lt;int&gt;</th><th scope=col>&lt;dbl&gt;</th></tr>\n",
       "</thead>\n",
       "<tbody>\n",
       "\t<tr><td>China        </td><td>Asia    </td><td>1957</td><td>50.54896</td><td>637408000</td><td>  575.9870</td></tr>\n",
       "\t<tr><td>India        </td><td>Asia    </td><td>1957</td><td>40.24900</td><td>409000000</td><td>  590.0620</td></tr>\n",
       "\t<tr><td>United States</td><td>Americas</td><td>1957</td><td>69.49000</td><td>171984000</td><td>14847.1271</td></tr>\n",
       "\t<tr><td>Japan        </td><td>Asia    </td><td>1957</td><td>65.50000</td><td> 91563009</td><td> 4317.6944</td></tr>\n",
       "\t<tr><td>Indonesia    </td><td>Asia    </td><td>1957</td><td>39.91800</td><td> 90124000</td><td>  858.9003</td></tr>\n",
       "\t<tr><td>Germany      </td><td>Europe  </td><td>1957</td><td>69.10000</td><td> 71019069</td><td>10187.8267</td></tr>\n",
       "</tbody>\n",
       "</table>\n"
      ],
      "text/latex": [
       "A tibble: 6 × 6\n",
       "\\begin{tabular}{llllll}\n",
       " country & continent & year & lifeExp & pop & gdpPercap\\\\\n",
       " <fct> & <fct> & <int> & <dbl> & <int> & <dbl>\\\\\n",
       "\\hline\n",
       "\t China         & Asia     & 1957 & 50.54896 & 637408000 &   575.9870\\\\\n",
       "\t India         & Asia     & 1957 & 40.24900 & 409000000 &   590.0620\\\\\n",
       "\t United States & Americas & 1957 & 69.49000 & 171984000 & 14847.1271\\\\\n",
       "\t Japan         & Asia     & 1957 & 65.50000 &  91563009 &  4317.6944\\\\\n",
       "\t Indonesia     & Asia     & 1957 & 39.91800 &  90124000 &   858.9003\\\\\n",
       "\t Germany       & Europe   & 1957 & 69.10000 &  71019069 & 10187.8267\\\\\n",
       "\\end{tabular}\n"
      ],
      "text/markdown": [
       "\n",
       "A tibble: 6 × 6\n",
       "\n",
       "| country &lt;fct&gt; | continent &lt;fct&gt; | year &lt;int&gt; | lifeExp &lt;dbl&gt; | pop &lt;int&gt; | gdpPercap &lt;dbl&gt; |\n",
       "|---|---|---|---|---|---|\n",
       "| China         | Asia     | 1957 | 50.54896 | 637408000 |   575.9870 |\n",
       "| India         | Asia     | 1957 | 40.24900 | 409000000 |   590.0620 |\n",
       "| United States | Americas | 1957 | 69.49000 | 171984000 | 14847.1271 |\n",
       "| Japan         | Asia     | 1957 | 65.50000 |  91563009 |  4317.6944 |\n",
       "| Indonesia     | Asia     | 1957 | 39.91800 |  90124000 |   858.9003 |\n",
       "| Germany       | Europe   | 1957 | 69.10000 |  71019069 | 10187.8267 |\n",
       "\n"
      ],
      "text/plain": [
       "  country       continent year lifeExp  pop       gdpPercap \n",
       "1 China         Asia      1957 50.54896 637408000   575.9870\n",
       "2 India         Asia      1957 40.24900 409000000   590.0620\n",
       "3 United States Americas  1957 69.49000 171984000 14847.1271\n",
       "4 Japan         Asia      1957 65.50000  91563009  4317.6944\n",
       "5 Indonesia     Asia      1957 39.91800  90124000   858.9003\n",
       "6 Germany       Europe    1957 69.10000  71019069 10187.8267"
      ]
     },
     "metadata": {},
     "output_type": "display_data"
    }
   ],
   "source": [
    "head (\n",
    "gapminder %>% filter (year == 1957) %>% arrange(desc(pop))\n",
    ")"
   ]
  },
  {
   "cell_type": "markdown",
   "id": "a37d92e3",
   "metadata": {},
   "source": [
    "#### Using Mutate to add columns "
   ]
  },
  {
   "cell_type": "code",
   "execution_count": 7,
   "id": "37bb6d41",
   "metadata": {},
   "outputs": [
    {
     "data": {
      "text/html": [
       "<table class=\"dataframe\">\n",
       "<caption>A tibble: 6 × 7</caption>\n",
       "<thead>\n",
       "\t<tr><th scope=col>country</th><th scope=col>continent</th><th scope=col>year</th><th scope=col>lifeExp</th><th scope=col>pop</th><th scope=col>gdpPercap</th><th scope=col>lifeExpMonths</th></tr>\n",
       "\t<tr><th scope=col>&lt;fct&gt;</th><th scope=col>&lt;fct&gt;</th><th scope=col>&lt;int&gt;</th><th scope=col>&lt;dbl&gt;</th><th scope=col>&lt;int&gt;</th><th scope=col>&lt;dbl&gt;</th><th scope=col>&lt;dbl&gt;</th></tr>\n",
       "</thead>\n",
       "<tbody>\n",
       "\t<tr><td>Afghanistan</td><td>Asia</td><td>1952</td><td>28.801</td><td> 8425333</td><td>779.4453</td><td>345.612</td></tr>\n",
       "\t<tr><td>Afghanistan</td><td>Asia</td><td>1957</td><td>30.332</td><td> 9240934</td><td>820.8530</td><td>363.984</td></tr>\n",
       "\t<tr><td>Afghanistan</td><td>Asia</td><td>1962</td><td>31.997</td><td>10267083</td><td>853.1007</td><td>383.964</td></tr>\n",
       "\t<tr><td>Afghanistan</td><td>Asia</td><td>1967</td><td>34.020</td><td>11537966</td><td>836.1971</td><td>408.240</td></tr>\n",
       "\t<tr><td>Afghanistan</td><td>Asia</td><td>1972</td><td>36.088</td><td>13079460</td><td>739.9811</td><td>433.056</td></tr>\n",
       "\t<tr><td>Afghanistan</td><td>Asia</td><td>1977</td><td>38.438</td><td>14880372</td><td>786.1134</td><td>461.256</td></tr>\n",
       "</tbody>\n",
       "</table>\n"
      ],
      "text/latex": [
       "A tibble: 6 × 7\n",
       "\\begin{tabular}{lllllll}\n",
       " country & continent & year & lifeExp & pop & gdpPercap & lifeExpMonths\\\\\n",
       " <fct> & <fct> & <int> & <dbl> & <int> & <dbl> & <dbl>\\\\\n",
       "\\hline\n",
       "\t Afghanistan & Asia & 1952 & 28.801 &  8425333 & 779.4453 & 345.612\\\\\n",
       "\t Afghanistan & Asia & 1957 & 30.332 &  9240934 & 820.8530 & 363.984\\\\\n",
       "\t Afghanistan & Asia & 1962 & 31.997 & 10267083 & 853.1007 & 383.964\\\\\n",
       "\t Afghanistan & Asia & 1967 & 34.020 & 11537966 & 836.1971 & 408.240\\\\\n",
       "\t Afghanistan & Asia & 1972 & 36.088 & 13079460 & 739.9811 & 433.056\\\\\n",
       "\t Afghanistan & Asia & 1977 & 38.438 & 14880372 & 786.1134 & 461.256\\\\\n",
       "\\end{tabular}\n"
      ],
      "text/markdown": [
       "\n",
       "A tibble: 6 × 7\n",
       "\n",
       "| country &lt;fct&gt; | continent &lt;fct&gt; | year &lt;int&gt; | lifeExp &lt;dbl&gt; | pop &lt;int&gt; | gdpPercap &lt;dbl&gt; | lifeExpMonths &lt;dbl&gt; |\n",
       "|---|---|---|---|---|---|---|\n",
       "| Afghanistan | Asia | 1952 | 28.801 |  8425333 | 779.4453 | 345.612 |\n",
       "| Afghanistan | Asia | 1957 | 30.332 |  9240934 | 820.8530 | 363.984 |\n",
       "| Afghanistan | Asia | 1962 | 31.997 | 10267083 | 853.1007 | 383.964 |\n",
       "| Afghanistan | Asia | 1967 | 34.020 | 11537966 | 836.1971 | 408.240 |\n",
       "| Afghanistan | Asia | 1972 | 36.088 | 13079460 | 739.9811 | 433.056 |\n",
       "| Afghanistan | Asia | 1977 | 38.438 | 14880372 | 786.1134 | 461.256 |\n",
       "\n"
      ],
      "text/plain": [
       "  country     continent year lifeExp pop      gdpPercap lifeExpMonths\n",
       "1 Afghanistan Asia      1952 28.801   8425333 779.4453  345.612      \n",
       "2 Afghanistan Asia      1957 30.332   9240934 820.8530  363.984      \n",
       "3 Afghanistan Asia      1962 31.997  10267083 853.1007  383.964      \n",
       "4 Afghanistan Asia      1967 34.020  11537966 836.1971  408.240      \n",
       "5 Afghanistan Asia      1972 36.088  13079460 739.9811  433.056      \n",
       "6 Afghanistan Asia      1977 38.438  14880372 786.1134  461.256      "
      ]
     },
     "metadata": {},
     "output_type": "display_data"
    }
   ],
   "source": [
    "head(\n",
    "    gapminder %>% mutate(lifeExpMonths = lifeExp *12)\n",
    ")"
   ]
  },
  {
   "cell_type": "code",
   "execution_count": 8,
   "id": "59473084",
   "metadata": {},
   "outputs": [
    {
     "data": {
      "text/html": [
       "<table class=\"dataframe\">\n",
       "<caption>A tibble: 6 × 7</caption>\n",
       "<thead>\n",
       "\t<tr><th scope=col>country</th><th scope=col>continent</th><th scope=col>year</th><th scope=col>lifeExp</th><th scope=col>pop</th><th scope=col>gdpPercap</th><th scope=col>lifeExpMonths</th></tr>\n",
       "\t<tr><th scope=col>&lt;fct&gt;</th><th scope=col>&lt;fct&gt;</th><th scope=col>&lt;int&gt;</th><th scope=col>&lt;dbl&gt;</th><th scope=col>&lt;int&gt;</th><th scope=col>&lt;dbl&gt;</th><th scope=col>&lt;dbl&gt;</th></tr>\n",
       "</thead>\n",
       "<tbody>\n",
       "\t<tr><td>Japan           </td><td>Asia   </td><td>2007</td><td>82.603</td><td>127467972</td><td>31656.07</td><td>991.236</td></tr>\n",
       "\t<tr><td>Hong Kong, China</td><td>Asia   </td><td>2007</td><td>82.208</td><td>  6980412</td><td>39724.98</td><td>986.496</td></tr>\n",
       "\t<tr><td>Iceland         </td><td>Europe </td><td>2007</td><td>81.757</td><td>   301931</td><td>36180.79</td><td>981.084</td></tr>\n",
       "\t<tr><td>Switzerland     </td><td>Europe </td><td>2007</td><td>81.701</td><td>  7554661</td><td>37506.42</td><td>980.412</td></tr>\n",
       "\t<tr><td>Australia       </td><td>Oceania</td><td>2007</td><td>81.235</td><td> 20434176</td><td>34435.37</td><td>974.820</td></tr>\n",
       "\t<tr><td>Spain           </td><td>Europe </td><td>2007</td><td>80.941</td><td> 40448191</td><td>28821.06</td><td>971.292</td></tr>\n",
       "</tbody>\n",
       "</table>\n"
      ],
      "text/latex": [
       "A tibble: 6 × 7\n",
       "\\begin{tabular}{lllllll}\n",
       " country & continent & year & lifeExp & pop & gdpPercap & lifeExpMonths\\\\\n",
       " <fct> & <fct> & <int> & <dbl> & <int> & <dbl> & <dbl>\\\\\n",
       "\\hline\n",
       "\t Japan            & Asia    & 2007 & 82.603 & 127467972 & 31656.07 & 991.236\\\\\n",
       "\t Hong Kong, China & Asia    & 2007 & 82.208 &   6980412 & 39724.98 & 986.496\\\\\n",
       "\t Iceland          & Europe  & 2007 & 81.757 &    301931 & 36180.79 & 981.084\\\\\n",
       "\t Switzerland      & Europe  & 2007 & 81.701 &   7554661 & 37506.42 & 980.412\\\\\n",
       "\t Australia        & Oceania & 2007 & 81.235 &  20434176 & 34435.37 & 974.820\\\\\n",
       "\t Spain            & Europe  & 2007 & 80.941 &  40448191 & 28821.06 & 971.292\\\\\n",
       "\\end{tabular}\n"
      ],
      "text/markdown": [
       "\n",
       "A tibble: 6 × 7\n",
       "\n",
       "| country &lt;fct&gt; | continent &lt;fct&gt; | year &lt;int&gt; | lifeExp &lt;dbl&gt; | pop &lt;int&gt; | gdpPercap &lt;dbl&gt; | lifeExpMonths &lt;dbl&gt; |\n",
       "|---|---|---|---|---|---|---|\n",
       "| Japan            | Asia    | 2007 | 82.603 | 127467972 | 31656.07 | 991.236 |\n",
       "| Hong Kong, China | Asia    | 2007 | 82.208 |   6980412 | 39724.98 | 986.496 |\n",
       "| Iceland          | Europe  | 2007 | 81.757 |    301931 | 36180.79 | 981.084 |\n",
       "| Switzerland      | Europe  | 2007 | 81.701 |   7554661 | 37506.42 | 980.412 |\n",
       "| Australia        | Oceania | 2007 | 81.235 |  20434176 | 34435.37 | 974.820 |\n",
       "| Spain            | Europe  | 2007 | 80.941 |  40448191 | 28821.06 | 971.292 |\n",
       "\n"
      ],
      "text/plain": [
       "  country          continent year lifeExp pop       gdpPercap lifeExpMonths\n",
       "1 Japan            Asia      2007 82.603  127467972 31656.07  991.236      \n",
       "2 Hong Kong, China Asia      2007 82.208    6980412 39724.98  986.496      \n",
       "3 Iceland          Europe    2007 81.757     301931 36180.79  981.084      \n",
       "4 Switzerland      Europe    2007 81.701    7554661 37506.42  980.412      \n",
       "5 Australia        Oceania   2007 81.235   20434176 34435.37  974.820      \n",
       "6 Spain            Europe    2007 80.941   40448191 28821.06  971.292      "
      ]
     },
     "metadata": {},
     "output_type": "display_data"
    }
   ],
   "source": [
    "# Filter, mutate, and arrange the gapminder dataset\n",
    "head (\n",
    "gapminder %>% filter(year ==2007) %>% \n",
    "mutate(lifeExpMonths = 12 * lifeExp) %>% \n",
    "arrange(desc(lifeExpMonths))\n",
    ")"
   ]
  },
  {
   "cell_type": "markdown",
   "id": "6b29fdc6",
   "metadata": {},
   "source": [
    "### Plots "
   ]
  },
  {
   "cell_type": "code",
   "execution_count": 5,
   "id": "78979799",
   "metadata": {
    "scrolled": true
   },
   "outputs": [
    {
     "data": {
      "image/png": "[encoded data removed]",
      "text/plain": [
       "plot without title"
      ]
     },
     "metadata": {
      "image/png": {
       "height": 420,
       "width": 420
      }
     },
     "output_type": "display_data"
    }
   ],
   "source": [
    "# windows(20,5)\n",
    "ggplot(data = mpg) + \n",
    "  geom_point(mapping = aes(x = displ, y = hwy))"
   ]
  },
  {
   "cell_type": "code",
   "execution_count": 4,
   "id": "3b95fe5f",
   "metadata": {},
   "outputs": [
    {
     "data": {
      "image/png": "[encoded data removed]",
      "text/plain": [
       "plot without title"
      ]
     },
     "metadata": {
      "image/png": {
       "height": 420,
       "width": 420
      }
     },
     "output_type": "display_data"
    }
   ],
   "source": [
    "ggplot(data = mpg)"
   ]
  },
  {
   "cell_type": "code",
   "execution_count": 9,
   "id": "075e6d1a",
   "metadata": {},
   "outputs": [
    {
     "data": {
      "image/png": "[encoded data removed]",
      "text/plain": [
       "plot without title"
      ]
     },
     "metadata": {
      "image/png": {
       "height": 420,
       "width": 420
      }
     },
     "output_type": "display_data"
    }
   ],
   "source": [
    "# windows(20,5)\n",
    "ggplot(data = mpg) + \n",
    "  geom_point(mapping = aes(x = cyl, y = hwy))"
   ]
  },
  {
   "cell_type": "code",
   "execution_count": 12,
   "id": "aac71ce8",
   "metadata": {},
   "outputs": [
    {
     "data": {
      "image/png": "[encoded data removed]",
      "text/plain": [
       "plot without title"
      ]
     },
     "metadata": {
      "image/png": {
       "height": 420,
       "width": 420
      }
     },
     "output_type": "display_data"
    }
   ],
   "source": [
    "# windows(20,5)\n",
    "ggplot(data = mpg) + \n",
    "  geom_point(mapping = aes(x = displ, y = hwy, color = class))"
   ]
  },
  {
   "cell_type": "code",
   "execution_count": 13,
   "id": "77459884",
   "metadata": {},
   "outputs": [
    {
     "name": "stderr",
     "output_type": "stream",
     "text": [
      "Warning message:\n",
      "\"Using size for a discrete variable is not advised.\"\n"
     ]
    },
    {
     "data": {
      "image/png": "[encoded data removed]",
      "text/plain": [
       "plot without title"
      ]
     },
     "metadata": {
      "image/png": {
       "height": 420,
       "width": 420
      }
     },
     "output_type": "display_data"
    }
   ],
   "source": [
    "ggplot(data = mpg) + \n",
    "  geom_point(mapping = aes(x = displ, y = hwy, size = class))\n",
    "#> Warning: Using size for a discrete variable is not advised."
   ]
  },
  {
   "cell_type": "code",
   "execution_count": 14,
   "id": "4de9db4e",
   "metadata": {},
   "outputs": [
    {
     "name": "stderr",
     "output_type": "stream",
     "text": [
      "Warning message:\n",
      "\"Using alpha for a discrete variable is not advised.\"\n",
      "Warning message:\n",
      "\"The shape palette can deal with a maximum of 6 discrete values because\n",
      "more than 6 becomes difficult to discriminate; you have 7. Consider\n",
      "specifying shapes manually if you must have them.\"\n",
      "Warning message:\n",
      "\"Removed 62 rows containing missing values (geom_point).\"\n"
     ]
    },
    {
     "data": {
      "image/png": "[encoded data removed]",
      "text/plain": [
       "plot without title"
      ]
     },
     "metadata": {
      "image/png": {
       "height": 420,
       "width": 420
      }
     },
     "output_type": "display_data"
    },
    {
     "data": {
      "image/png": "[encoded data removed]",
      "text/plain": [
       "plot without title"
      ]
     },
     "metadata": {
      "image/png": {
       "height": 420,
       "width": 420
      }
     },
     "output_type": "display_data"
    }
   ],
   "source": [
    "# Left\n",
    "ggplot(data = mpg) + \n",
    "  geom_point(mapping = aes(x = displ, y = hwy, alpha = class))\n",
    "\n",
    "# Right\n",
    "ggplot(data = mpg) + \n",
    "  geom_point(mapping = aes(x = displ, y = hwy, shape = class))"
   ]
  },
  {
   "cell_type": "code",
   "execution_count": 15,
   "id": "f634e560",
   "metadata": {},
   "outputs": [
    {
     "data": {
      "image/png": "[encoded data removed]",
      "text/plain": [
       "plot without title"
      ]
     },
     "metadata": {
      "image/png": {
       "height": 420,
       "width": 420
      }
     },
     "output_type": "display_data"
    }
   ],
   "source": [
    "ggplot(data = mpg) + \n",
    "  geom_point(mapping = aes(x = displ, y = hwy, color = \"blue\"))"
   ]
  },
  {
   "cell_type": "code",
   "execution_count": 16,
   "id": "c560d81f",
   "metadata": {},
   "outputs": [
    {
     "data": {
      "image/png": "[encoded data removed]",
      "text/plain": [
       "plot without title"
      ]
     },
     "metadata": {
      "image/png": {
       "height": 420,
       "width": 420
      }
     },
     "output_type": "display_data"
    }
   ],
   "source": [
    "ggplot(data = mpg) +\n",
    "    geom_point(mapping = aes(x= displ, y = hwy), color = \"blue\")"
   ]
  },
  {
   "cell_type": "code",
   "execution_count": 23,
   "id": "91b49635",
   "metadata": {},
   "outputs": [],
   "source": [
    "?mpg"
   ]
  },
  {
   "cell_type": "code",
   "execution_count": 26,
   "id": "31c65c94",
   "metadata": {},
   "outputs": [
    {
     "data": {
      "image/png": "[encoded data removed]",
      "text/plain": [
       "plot without title"
      ]
     },
     "metadata": {
      "image/png": {
       "height": 420,
       "width": 420
      }
     },
     "output_type": "display_data"
    }
   ],
   "source": [
    "ggplot(data = mpg) + \n",
    "    geom_point( mapping = aes (x = displ, y =  hwy, alpha = year))"
   ]
  },
  {
   "cell_type": "code",
   "execution_count": 24,
   "id": "def29f42",
   "metadata": {},
   "outputs": [
    {
     "data": {
      "text/html": [
       "<table class=\"dataframe\">\n",
       "<caption>A tibble: 6 × 11</caption>\n",
       "<thead>\n",
       "\t<tr><th scope=col>manufacturer</th><th scope=col>model</th><th scope=col>displ</th><th scope=col>year</th><th scope=col>cyl</th><th scope=col>trans</th><th scope=col>drv</th><th scope=col>cty</th><th scope=col>hwy</th><th scope=col>fl</th><th scope=col>class</th></tr>\n",
       "\t<tr><th scope=col>&lt;chr&gt;</th><th scope=col>&lt;chr&gt;</th><th scope=col>&lt;dbl&gt;</th><th scope=col>&lt;int&gt;</th><th scope=col>&lt;int&gt;</th><th scope=col>&lt;chr&gt;</th><th scope=col>&lt;chr&gt;</th><th scope=col>&lt;int&gt;</th><th scope=col>&lt;int&gt;</th><th scope=col>&lt;chr&gt;</th><th scope=col>&lt;chr&gt;</th></tr>\n",
       "</thead>\n",
       "<tbody>\n",
       "\t<tr><td>audi</td><td>a4</td><td>1.8</td><td>1999</td><td>4</td><td>auto(l5)  </td><td>f</td><td>18</td><td>29</td><td>p</td><td>compact</td></tr>\n",
       "\t<tr><td>audi</td><td>a4</td><td>1.8</td><td>1999</td><td>4</td><td>manual(m5)</td><td>f</td><td>21</td><td>29</td><td>p</td><td>compact</td></tr>\n",
       "\t<tr><td>audi</td><td>a4</td><td>2.0</td><td>2008</td><td>4</td><td>manual(m6)</td><td>f</td><td>20</td><td>31</td><td>p</td><td>compact</td></tr>\n",
       "\t<tr><td>audi</td><td>a4</td><td>2.0</td><td>2008</td><td>4</td><td>auto(av)  </td><td>f</td><td>21</td><td>30</td><td>p</td><td>compact</td></tr>\n",
       "\t<tr><td>audi</td><td>a4</td><td>2.8</td><td>1999</td><td>6</td><td>auto(l5)  </td><td>f</td><td>16</td><td>26</td><td>p</td><td>compact</td></tr>\n",
       "\t<tr><td>audi</td><td>a4</td><td>2.8</td><td>1999</td><td>6</td><td>manual(m5)</td><td>f</td><td>18</td><td>26</td><td>p</td><td>compact</td></tr>\n",
       "</tbody>\n",
       "</table>\n"
      ],
      "text/latex": [
       "A tibble: 6 × 11\n",
       "\\begin{tabular}{lllllllllll}\n",
       " manufacturer & model & displ & year & cyl & trans & drv & cty & hwy & fl & class\\\\\n",
       " <chr> & <chr> & <dbl> & <int> & <int> & <chr> & <chr> & <int> & <int> & <chr> & <chr>\\\\\n",
       "\\hline\n",
       "\t audi & a4 & 1.8 & 1999 & 4 & auto(l5)   & f & 18 & 29 & p & compact\\\\\n",
       "\t audi & a4 & 1.8 & 1999 & 4 & manual(m5) & f & 21 & 29 & p & compact\\\\\n",
       "\t audi & a4 & 2.0 & 2008 & 4 & manual(m6) & f & 20 & 31 & p & compact\\\\\n",
       "\t audi & a4 & 2.0 & 2008 & 4 & auto(av)   & f & 21 & 30 & p & compact\\\\\n",
       "\t audi & a4 & 2.8 & 1999 & 6 & auto(l5)   & f & 16 & 26 & p & compact\\\\\n",
       "\t audi & a4 & 2.8 & 1999 & 6 & manual(m5) & f & 18 & 26 & p & compact\\\\\n",
       "\\end{tabular}\n"
      ],
      "text/markdown": [
       "\n",
       "A tibble: 6 × 11\n",
       "\n",
       "| manufacturer &lt;chr&gt; | model &lt;chr&gt; | displ &lt;dbl&gt; | year &lt;int&gt; | cyl &lt;int&gt; | trans &lt;chr&gt; | drv &lt;chr&gt; | cty &lt;int&gt; | hwy &lt;int&gt; | fl &lt;chr&gt; | class &lt;chr&gt; |\n",
       "|---|---|---|---|---|---|---|---|---|---|---|\n",
       "| audi | a4 | 1.8 | 1999 | 4 | auto(l5)   | f | 18 | 29 | p | compact |\n",
       "| audi | a4 | 1.8 | 1999 | 4 | manual(m5) | f | 21 | 29 | p | compact |\n",
       "| audi | a4 | 2.0 | 2008 | 4 | manual(m6) | f | 20 | 31 | p | compact |\n",
       "| audi | a4 | 2.0 | 2008 | 4 | auto(av)   | f | 21 | 30 | p | compact |\n",
       "| audi | a4 | 2.8 | 1999 | 6 | auto(l5)   | f | 16 | 26 | p | compact |\n",
       "| audi | a4 | 2.8 | 1999 | 6 | manual(m5) | f | 18 | 26 | p | compact |\n",
       "\n"
      ],
      "text/plain": [
       "  manufacturer model displ year cyl trans      drv cty hwy fl class  \n",
       "1 audi         a4    1.8   1999 4   auto(l5)   f   18  29  p  compact\n",
       "2 audi         a4    1.8   1999 4   manual(m5) f   21  29  p  compact\n",
       "3 audi         a4    2.0   2008 4   manual(m6) f   20  31  p  compact\n",
       "4 audi         a4    2.0   2008 4   auto(av)   f   21  30  p  compact\n",
       "5 audi         a4    2.8   1999 6   auto(l5)   f   16  26  p  compact\n",
       "6 audi         a4    2.8   1999 6   manual(m5) f   18  26  p  compact"
      ]
     },
     "metadata": {},
     "output_type": "display_data"
    }
   ],
   "source": [
    "head(mpg)"
   ]
  },
  {
   "cell_type": "code",
   "execution_count": null,
   "id": "4181148a",
   "metadata": {},
   "outputs": [],
   "source": []
  }
 ],
 "metadata": {
  "kernelspec": {
   "display_name": "R",
   "language": "R",
   "name": "ir"
  },
  "language_info": {
   "codemirror_mode": "r",
   "file_extension": ".r",
   "mimetype": "text/x-r-source",
   "name": "R",
   "pygments_lexer": "r",
   "version": "4.1.3"
  }
 },
 "nbformat": 4,
 "nbformat_minor": 5
}
